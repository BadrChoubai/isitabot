{
 "cells": [
  {
   "cell_type": "code",
   "execution_count": 2,
   "metadata": {},
   "outputs": [],
   "source": [
    "import spacy\n",
    "from collections import Counter"
   ]
  },
  {
   "cell_type": "code",
   "execution_count": 3,
   "metadata": {},
   "outputs": [],
   "source": [
    "nlp = spacy.load(\"en_core_web_sm\")\n",
    "doc = nlp(\"Researchers had long noted that some skills—analysis and innovation, for example—tend to rise quickly very early in life and then fall through one’s 30s and 40s. Meanwhile, one’s knack for combining complex ideas, understanding what they mean, and relating them to others rises throughout middle age and can stay high well into old age.\")"
   ]
  },
  {
   "cell_type": "code",
   "execution_count": 9,
   "metadata": {},
   "outputs": [
    {
     "name": "stdout",
     "output_type": "stream",
     "text": [
      "{'NOUN': 14, 'AUX': 2, 'ADV': 7, 'VERB': 10, 'SCONJ': 1, 'DET': 1, 'PUNCT': 8, 'CCONJ': 5, 'ADP': 7, 'PART': 2, 'NUM': 2, 'ADJ': 4, 'PRON': 3}\n",
      "{'NOUN': 0.21212121212121213, 'AUX': 0.030303030303030304, 'ADV': 0.10606060606060606, 'VERB': 0.15151515151515152, 'SCONJ': 0.015151515151515152, 'DET': 0.015151515151515152, 'PUNCT': 0.12121212121212122, 'CCONJ': 0.07575757575757576, 'ADP': 0.10606060606060606, 'PART': 0.030303030303030304, 'NUM': 0.030303030303030304, 'ADJ': 0.06060606060606061, 'PRON': 0.045454545454545456}\n"
     ]
    }
   ],
   "source": [
    "pos = [token.pos_ for token in doc]\n",
    "pos_counts = dict(zip(Counter(pos).keys(), Counter(pos).values()))\n",
    "pos_percents = {key:value/sum(pos_counts.values()) for (key, value) in pos_counts.items()}\n",
    "print(pos_counts)\n",
    "print(pos_percents)"
   ]
  }
 ],
 "metadata": {
  "interpreter": {
   "hash": "afed171598be429a3ff25267819ad9841fe6a9d58681b12fb6fef5d39e1931f8"
  },
  "kernelspec": {
   "display_name": "Python 3.9.10 ('venv': venv)",
   "language": "python",
   "name": "python3"
  },
  "language_info": {
   "codemirror_mode": {
    "name": "ipython",
    "version": 3
   },
   "file_extension": ".py",
   "mimetype": "text/x-python",
   "name": "python",
   "nbconvert_exporter": "python",
   "pygments_lexer": "ipython3",
   "version": "3.9.10"
  },
  "orig_nbformat": 4
 },
 "nbformat": 4,
 "nbformat_minor": 2
}
